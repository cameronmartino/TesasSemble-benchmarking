{
 "cells": [
  {
   "cell_type": "code",
   "execution_count": 2,
   "metadata": {},
   "outputs": [],
   "source": [
    "import biom\n",
    "import skbio\n",
    "import pandas as pd\n",
    "from biom.table import Table\n",
    "\n",
    "#plotting\n",
    "import seaborn as sns\n",
    "import matplotlib.pyplot as plt\n",
    "import numpy as np\n",
    "from skbio.stats.composition import closure\n",
    "import matplotlib.colors as colors\n",
    "import matplotlib.gridspec as gridspec\n",
    "from matplotlib import ticker\n",
    "plt.style.use('ggplot')\n",
    "sns.set_style('whitegrid')\n",
    "plt.rcParams['xtick.labelsize']=20\n",
    "%matplotlib inline\n",
    "\n"
   ]
  },
  {
   "cell_type": "markdown",
   "metadata": {},
   "source": [
    "## example"
   ]
  },
  {
   "cell_type": "code",
   "execution_count": 3,
   "metadata": {},
   "outputs": [
    {
     "data": {
      "text/html": [
       "<div>\n",
       "<style scoped>\n",
       "    .dataframe tbody tr th:only-of-type {\n",
       "        vertical-align: middle;\n",
       "    }\n",
       "\n",
       "    .dataframe tbody tr th {\n",
       "        vertical-align: top;\n",
       "    }\n",
       "\n",
       "    .dataframe thead th {\n",
       "        text-align: right;\n",
       "    }\n",
       "</style>\n",
       "<table border=\"1\" class=\"dataframe\">\n",
       "  <thead>\n",
       "    <tr style=\"text-align: right;\">\n",
       "      <th></th>\n",
       "      <th>Sample1</th>\n",
       "      <th>Sample2</th>\n",
       "    </tr>\n",
       "  </thead>\n",
       "  <tbody>\n",
       "    <tr>\n",
       "      <th>Genome1</th>\n",
       "      <td>0.3</td>\n",
       "      <td>0.2</td>\n",
       "    </tr>\n",
       "    <tr>\n",
       "      <th>Genome2</th>\n",
       "      <td>0.0</td>\n",
       "      <td>0.3</td>\n",
       "    </tr>\n",
       "    <tr>\n",
       "      <th>Genome3</th>\n",
       "      <td>0.6</td>\n",
       "      <td>0.4</td>\n",
       "    </tr>\n",
       "  </tbody>\n",
       "</table>\n",
       "</div>"
      ],
      "text/plain": [
       "         Sample1  Sample2\n",
       "Genome1      0.3      0.2\n",
       "Genome2      0.0      0.3\n",
       "Genome3      0.6      0.4"
      ]
     },
     "execution_count": 3,
     "metadata": {},
     "output_type": "execute_result"
    }
   ],
   "source": [
    "table = biom.load_table('defaults/mini.biom')\n",
    "table.to_dataframe()\n"
   ]
  },
  {
   "cell_type": "code",
   "execution_count": 3,
   "metadata": {
    "scrolled": true
   },
   "outputs": [],
   "source": [
    "table.metadata_to_dataframe(axis='observation').values\n",
    "table.table_id"
   ]
  },
  {
   "cell_type": "markdown",
   "metadata": {},
   "source": [
    "#### test: just chnage observations"
   ]
  },
  {
   "cell_type": "code",
   "execution_count": 4,
   "metadata": {},
   "outputs": [],
   "source": [
    "Taxon1 = ('k__Bacteria;p__Proteobacteria;c__Gammaproteobacteria;'\n",
    "         'o__Pseudomonadales;f__Pseudomonadaceae;g__Pseudomonas;s__Pseudomonas aeruginosa')\n",
    "Taxon2 = ('k__Bacteria;p__Proteobacteria;c__Gammaproteobacteria;o__Enterobacteriales;f__Enterobacteriaceae;'\n",
    "          'g__Escherichia;s__Escherichia coli')\n",
    "Taxon3 = ('k__Bacteria;p__Firmicutes;c__Bacilli;o__Bacillales'\n",
    "          ';f__Bacillaceae;g__Bacillus;s__Bacillus subtilis')\n",
    "Taxon4 = ('k__Bacteria;p__Firmicutes;c__Bacilli;o__Lactobacillales;f__Enterococcaceae'\n",
    "          ';g__Enterococcus;s__Enterococcus faecalis')\n"
   ]
  },
  {
   "cell_type": "code",
   "execution_count": 5,
   "metadata": {},
   "outputs": [
    {
     "data": {
      "text/html": [
       "<div>\n",
       "<style scoped>\n",
       "    .dataframe tbody tr th:only-of-type {\n",
       "        vertical-align: middle;\n",
       "    }\n",
       "\n",
       "    .dataframe tbody tr th {\n",
       "        vertical-align: top;\n",
       "    }\n",
       "\n",
       "    .dataframe thead th {\n",
       "        text-align: right;\n",
       "    }\n",
       "</style>\n",
       "<table border=\"1\" class=\"dataframe\">\n",
       "  <thead>\n",
       "    <tr style=\"text-align: right;\">\n",
       "      <th></th>\n",
       "      <th>taxonomy</th>\n",
       "    </tr>\n",
       "  </thead>\n",
       "  <tbody>\n",
       "    <tr>\n",
       "      <th>Genome1</th>\n",
       "      <td>k__Bacteria;p__Proteobacteria;c__Gammaproteoba...</td>\n",
       "    </tr>\n",
       "    <tr>\n",
       "      <th>Genome2</th>\n",
       "      <td>k__Bacteria;p__Proteobacteria;c__Gammaproteoba...</td>\n",
       "    </tr>\n",
       "    <tr>\n",
       "      <th>Genome3</th>\n",
       "      <td>k__Bacteria;p__Proteobacteria;c__Gammaproteoba...</td>\n",
       "    </tr>\n",
       "  </tbody>\n",
       "</table>\n",
       "</div>"
      ],
      "text/plain": [
       "                                                  taxonomy\n",
       "Genome1  k__Bacteria;p__Proteobacteria;c__Gammaproteoba...\n",
       "Genome2  k__Bacteria;p__Proteobacteria;c__Gammaproteoba...\n",
       "Genome3  k__Bacteria;p__Proteobacteria;c__Gammaproteoba..."
      ]
     },
     "execution_count": 5,
     "metadata": {},
     "output_type": "execute_result"
    }
   ],
   "source": [
    "mttaxa = table.metadata_to_dataframe(axis='observation').copy()\n",
    "#print(mttaxa)\n",
    "#mttaxa.loc['Genome1','taxonomy'] = Taxon1\n",
    "#mttaxa.loc['Genome2','taxonomy'] = Taxon2\n",
    "#mttaxa.loc['Genome3','taxonomy'] = Taxon3\n",
    "mttaxa"
   ]
  },
  {
   "cell_type": "code",
   "execution_count": 6,
   "metadata": {},
   "outputs": [
    {
     "data": {
      "text/plain": [
       "[{'taxonomy': ['k__Bacteria;p__Proteobacteria;c__Gammaproteobacteria;o__Pseudomonadales;f__Pseudomonadaceae;g__Pseudomonas;s__Pseudomonas aeruginosa']},\n",
       " {'taxonomy': ['k__Bacteria;p__Proteobacteria;c__Gammaproteobacteria;o__Enterobacteriales;f__Enterobacteriaceae;g__Escherichia;s__Escherichia coli']},\n",
       " {'taxonomy': ['k__Bacteria;p__Firmicutes;c__Bacilli;o__Bacillales;f__Bacillaceae;g__Bacillus;s__Bacillus subtilis']}]"
      ]
     },
     "execution_count": 6,
     "metadata": {},
     "output_type": "execute_result"
    }
   ],
   "source": [
    "observ_metadata = [{'taxonomy':[t_]}  \n",
    "                   for t_ in [Taxon1,Taxon2,Taxon3]]\n",
    "observ_metadata"
   ]
  },
  {
   "cell_type": "code",
   "execution_count": 7,
   "metadata": {},
   "outputs": [],
   "source": [
    "ntable = Table(table.to_dataframe().values, \n",
    "              table.to_dataframe().index, \n",
    "              table.to_dataframe().columns, \n",
    "              observ_metadata, table_id='default_copy')\n",
    "\n",
    "with biom.util.biom_open('new_default.biom', 'w') as f:\n",
    "    ntable.to_hdf5(f, \"test\")"
   ]
  },
  {
   "cell_type": "code",
   "execution_count": 8,
   "metadata": {},
   "outputs": [
    {
     "data": {
      "text/html": [
       "<div>\n",
       "<style scoped>\n",
       "    .dataframe tbody tr th:only-of-type {\n",
       "        vertical-align: middle;\n",
       "    }\n",
       "\n",
       "    .dataframe tbody tr th {\n",
       "        vertical-align: top;\n",
       "    }\n",
       "\n",
       "    .dataframe thead th {\n",
       "        text-align: right;\n",
       "    }\n",
       "</style>\n",
       "<table border=\"1\" class=\"dataframe\">\n",
       "  <thead>\n",
       "    <tr style=\"text-align: right;\">\n",
       "      <th></th>\n",
       "      <th>Sample1</th>\n",
       "      <th>Sample2</th>\n",
       "    </tr>\n",
       "  </thead>\n",
       "  <tbody>\n",
       "    <tr>\n",
       "      <th>Genome1</th>\n",
       "      <td>0.3</td>\n",
       "      <td>0.2</td>\n",
       "    </tr>\n",
       "    <tr>\n",
       "      <th>Genome2</th>\n",
       "      <td>0.0</td>\n",
       "      <td>0.3</td>\n",
       "    </tr>\n",
       "    <tr>\n",
       "      <th>Genome3</th>\n",
       "      <td>0.6</td>\n",
       "      <td>0.4</td>\n",
       "    </tr>\n",
       "  </tbody>\n",
       "</table>\n",
       "</div>"
      ],
      "text/plain": [
       "         Sample1  Sample2\n",
       "Genome1      0.3      0.2\n",
       "Genome2      0.0      0.3\n",
       "Genome3      0.6      0.4"
      ]
     },
     "execution_count": 8,
     "metadata": {},
     "output_type": "execute_result"
    }
   ],
   "source": [
    "test = biom.load_table('new_default.biom')\n",
    "test.to_dataframe()"
   ]
  },
  {
   "cell_type": "code",
   "execution_count": 10,
   "metadata": {},
   "outputs": [
    {
     "data": {
      "text/html": [
       "<div>\n",
       "<style scoped>\n",
       "    .dataframe tbody tr th:only-of-type {\n",
       "        vertical-align: middle;\n",
       "    }\n",
       "\n",
       "    .dataframe tbody tr th {\n",
       "        vertical-align: top;\n",
       "    }\n",
       "\n",
       "    .dataframe thead th {\n",
       "        text-align: right;\n",
       "    }\n",
       "</style>\n",
       "<table border=\"1\" class=\"dataframe\">\n",
       "  <thead>\n",
       "    <tr style=\"text-align: right;\">\n",
       "      <th></th>\n",
       "      <th>taxonomy_0</th>\n",
       "    </tr>\n",
       "  </thead>\n",
       "  <tbody>\n",
       "    <tr>\n",
       "      <th>Genome1</th>\n",
       "      <td>k__Bacteria;p__Proteobacteria;c__Gammaproteoba...</td>\n",
       "    </tr>\n",
       "    <tr>\n",
       "      <th>Genome2</th>\n",
       "      <td>k__Bacteria;p__Proteobacteria;c__Gammaproteoba...</td>\n",
       "    </tr>\n",
       "    <tr>\n",
       "      <th>Genome3</th>\n",
       "      <td>k__Bacteria;p__Firmicutes;c__Bacilli;o__Bacill...</td>\n",
       "    </tr>\n",
       "  </tbody>\n",
       "</table>\n",
       "</div>"
      ],
      "text/plain": [
       "                                                taxonomy_0\n",
       "Genome1  k__Bacteria;p__Proteobacteria;c__Gammaproteoba...\n",
       "Genome2  k__Bacteria;p__Proteobacteria;c__Gammaproteoba...\n",
       "Genome3  k__Bacteria;p__Firmicutes;c__Bacilli;o__Bacill..."
      ]
     },
     "execution_count": 10,
     "metadata": {},
     "output_type": "execute_result"
    }
   ],
   "source": [
    "test.metadata_to_dataframe(axis='observation')\n"
   ]
  },
  {
   "cell_type": "markdown",
   "metadata": {},
   "source": [
    "## toy simulation\n",
    "\n",
    "This is a simple _easy_ case scenario and is by no means a challenge benchmark. \n",
    "\n",
    "Phylogenetically diverse microbes covering large GC% range and both gram stains.\n",
    "\n",
    "| Species | Species | GC% | Gram |\n",
    "| --- | --- | --- | --- |\n",
    "| Taxon 1 | Pseudomonas aeruginosa | 66.2 | - |\n",
    "| Taxon 2 | Bacillus subtilis | 43.8 | + |\n",
    "| Taxon 3 | Enterococcus faecalis | 37.38 | + |\n",
    "| Taxon 4 | Pseudomonas stutzeri  | 63.93 | - |\n",
    "\n"
   ]
  },
  {
   "cell_type": "code",
   "execution_count": 66,
   "metadata": {},
   "outputs": [],
   "source": [
    "Taxon1 = ('k__Bacteria;p__Proteobacteria;c__Gammaproteobacteria;'\n",
    "         'o__Pseudomonadales;f__Pseudomonadaceae;g__Pseudomonas;s__Pseudomonas aeruginosa')\n",
    "Taxon2 = ('k__Bacteria;p__Firmicutes;c__Bacilli;o__Bacillales'\n",
    "          ';f__Bacillaceae;g__Bacillus;s__Bacillus subtilis')\n",
    "Taxon3 = ('k__Bacteria;p__Firmicutes;c__Bacilli;o__Lactobacillales;f__Enterococcaceae'\n",
    "          ';g__Enterococcus;s__Enterococcus faecalis')\n",
    "Taxon4 = ('k__Bacteria;p__Proteobacteria;c__Gammaproteobacteria;'\n",
    "         'o__Pseudomonadales;f__Pseudomonadaceae;g__Pseudomonas;s__Pseudomonas stutzeri')\n"
   ]
  },
  {
   "cell_type": "code",
   "execution_count": 67,
   "metadata": {},
   "outputs": [],
   "source": [
    "#toy\n",
    "n = 5\n",
    "t = np.linspace(1, 10, n)\n",
    "x1 = np.exp(t) * 0.01\n",
    "x2 = abs(np.random.normal(size=n))*.05 + [100]*n\n",
    "#x2 = np.random.normal(size=n) + 10\n",
    "x3 = np.random.normal(size=n) * 40 + 10\n",
    "x4 = x1[::-1]\n",
    "X = np.vstack((x1, x2, x3, x4)).T\n",
    "X[X<.05]=0\n",
    "#X_rel = np.around(closure(X),1)\n",
    "X_rel = (X.T * .9/X.sum(axis=1)).T\n",
    "#pd.DataFrame(X).to_csv('simfiles/count_toy.csv')\n",
    "#pd.DataFrame(X_rel).to_csv('simfiles/count_toy.csv')\n",
    "\n"
   ]
  },
  {
   "cell_type": "code",
   "execution_count": 68,
   "metadata": {},
   "outputs": [
    {
     "data": {
      "text/plain": [
       "array([0.9, 0.9, 0.9, 0.9, 0.9])"
      ]
     },
     "execution_count": 68,
     "metadata": {},
     "output_type": "execute_result"
    }
   ],
   "source": [
    "X_rel.sum(axis=1)"
   ]
  },
  {
   "cell_type": "code",
   "execution_count": 82,
   "metadata": {},
   "outputs": [
    {
     "data": {
      "image/png": "[encoded data removed]",
      "text/plain": [
       "<Figure size 1296x432 with 2 Axes>"
      ]
     },
     "metadata": {},
     "output_type": "display_data"
    }
   ],
   "source": [
    "fig,(ax,ax2) = plt.subplots(1,2,figsize=(18, 6), facecolor='white')\n",
    "ticksize=19\n",
    "labelsize=22\n",
    "ax.plot(t, X[:,0], label='Taxa 1: Low to High Abundant',lw=5)\n",
    "ax.plot(t, X[:,1], label='Taxa 2: Core Abundant',lw=5)\n",
    "ax.plot(t, X[:,2], label='Taxa 3: Randomly Abundant',lw=5)\n",
    "ax.plot(t, X[:,3], label='Taxa 4: High to Low Abundant',lw=5)\n",
    "legend = ax.legend(loc=2, \n",
    "            bbox_to_anchor=(-0., 1.5),\n",
    "            prop={'size':28},\n",
    "            fancybox=True, framealpha=0.5,ncol=2\n",
    "            , markerscale=50, facecolor=\"white\")\n",
    "legend.get_title().set_fontsize(25)\n",
    "ax.set_ylabel('Number of Reads',fontsize=33)\n",
    "ax.set_xlabel('Samples in Time',fontsize=33)\n",
    "\n",
    "ax2.plot(t, X_rel[:,0], label='Low to High Abundant',lw=5)\n",
    "ax2.plot(t, X_rel[:,1], label='Core Abundant',lw=5)\n",
    "ax2.plot(t, X_rel[:,2], label='Randomly Abundant',lw=5)\n",
    "ax2.plot(t, X_rel[:,3], label='High to Low Abundant',lw=5)\n",
    "ax2.set_ylabel('Relative Abundance',fontsize=33)\n",
    "ax2.set_xlabel('Samples in Time',fontsize=33)\n",
    "plt.savefig('supp_figure.png',dpi=300, \n",
    "            bbox_inches='tight',  transparent=True)\n",
    "plt.show()"
   ]
  },
  {
   "cell_type": "code",
   "execution_count": 70,
   "metadata": {},
   "outputs": [
    {
     "data": {
      "text/html": [
       "<div>\n",
       "<style scoped>\n",
       "    .dataframe tbody tr th:only-of-type {\n",
       "        vertical-align: middle;\n",
       "    }\n",
       "\n",
       "    .dataframe tbody tr th {\n",
       "        vertical-align: top;\n",
       "    }\n",
       "\n",
       "    .dataframe thead th {\n",
       "        text-align: right;\n",
       "    }\n",
       "</style>\n",
       "<table border=\"1\" class=\"dataframe\">\n",
       "  <thead>\n",
       "    <tr style=\"text-align: right;\">\n",
       "      <th></th>\n",
       "      <th>Sample1</th>\n",
       "      <th>Sample2</th>\n",
       "      <th>Sample3</th>\n",
       "      <th>Sample4</th>\n",
       "      <th>Sample5</th>\n",
       "    </tr>\n",
       "  </thead>\n",
       "  <tbody>\n",
       "    <tr>\n",
       "      <th>Genome1</th>\n",
       "      <td>0.000000</td>\n",
       "      <td>0.001794</td>\n",
       "      <td>0.010967</td>\n",
       "      <td>0.169142</td>\n",
       "      <td>0.548405</td>\n",
       "    </tr>\n",
       "    <tr>\n",
       "      <th>Genome2</th>\n",
       "      <td>0.281049</td>\n",
       "      <td>0.695662</td>\n",
       "      <td>0.448227</td>\n",
       "      <td>0.728979</td>\n",
       "      <td>0.249088</td>\n",
       "    </tr>\n",
       "    <tr>\n",
       "      <th>Genome3</th>\n",
       "      <td>0.000000</td>\n",
       "      <td>0.041044</td>\n",
       "      <td>0.429840</td>\n",
       "      <td>0.000000</td>\n",
       "      <td>0.102507</td>\n",
       "    </tr>\n",
       "    <tr>\n",
       "      <th>Genome4</th>\n",
       "      <td>0.618951</td>\n",
       "      <td>0.161500</td>\n",
       "      <td>0.010967</td>\n",
       "      <td>0.001879</td>\n",
       "      <td>0.000000</td>\n",
       "    </tr>\n",
       "  </tbody>\n",
       "</table>\n",
       "</div>"
      ],
      "text/plain": [
       "          Sample1   Sample2   Sample3   Sample4   Sample5\n",
       "Genome1  0.000000  0.001794  0.010967  0.169142  0.548405\n",
       "Genome2  0.281049  0.695662  0.448227  0.728979  0.249088\n",
       "Genome3  0.000000  0.041044  0.429840  0.000000  0.102507\n",
       "Genome4  0.618951  0.161500  0.010967  0.001879  0.000000"
      ]
     },
     "execution_count": 70,
     "metadata": {},
     "output_type": "execute_result"
    }
   ],
   "source": [
    "new_time_table = pd.DataFrame(X_rel,columns=['Genome'+str(i+1) for i in range(X_rel.shape[1])],\n",
    "                              index=['Sample'+str(i+1) for i in range(X_rel.shape[0])]).T\n",
    "new_time_table.head(5)"
   ]
  },
  {
   "cell_type": "code",
   "execution_count": 71,
   "metadata": {},
   "outputs": [
    {
     "data": {
      "text/plain": [
       "[{'taxonomy': ['k__Bacteria;p__Proteobacteria;c__Gammaproteobacteria;o__Pseudomonadales;f__Pseudomonadaceae;g__Pseudomonas;s__Pseudomonas aeruginosa']},\n",
       " {'taxonomy': ['k__Bacteria;p__Firmicutes;c__Bacilli;o__Bacillales;f__Bacillaceae;g__Bacillus;s__Bacillus subtilis']},\n",
       " {'taxonomy': ['k__Bacteria;p__Firmicutes;c__Bacilli;o__Lactobacillales;f__Enterococcaceae;g__Enterococcus;s__Enterococcus faecalis']},\n",
       " {'taxonomy': ['k__Bacteria;p__Proteobacteria;c__Gammaproteobacteria;o__Pseudomonadales;f__Pseudomonadaceae;g__Pseudomonas;s__Pseudomonas stutzeri']}]"
      ]
     },
     "execution_count": 71,
     "metadata": {},
     "output_type": "execute_result"
    }
   ],
   "source": [
    "observ_metadata = [{'taxonomy':[t_]}  \n",
    "                   for t_ in [Taxon1,Taxon2,Taxon3,Taxon4]]\n",
    "observ_metadata\n"
   ]
  },
  {
   "cell_type": "code",
   "execution_count": 72,
   "metadata": {},
   "outputs": [],
   "source": [
    "ntable = Table(new_time_table.values, \n",
    "              new_time_table.index, \n",
    "              new_time_table.columns, \n",
    "              observ_metadata, table_id='default_copy')\n",
    "\n",
    "with biom.util.biom_open('time_species_resolution.biom', 'w') as f:\n",
    "    ntable.to_hdf5(f, \"test\")\n"
   ]
  },
  {
   "cell_type": "code",
   "execution_count": 73,
   "metadata": {},
   "outputs": [
    {
     "data": {
      "text/html": [
       "<div>\n",
       "<style scoped>\n",
       "    .dataframe tbody tr th:only-of-type {\n",
       "        vertical-align: middle;\n",
       "    }\n",
       "\n",
       "    .dataframe tbody tr th {\n",
       "        vertical-align: top;\n",
       "    }\n",
       "\n",
       "    .dataframe thead th {\n",
       "        text-align: right;\n",
       "    }\n",
       "</style>\n",
       "<table border=\"1\" class=\"dataframe\">\n",
       "  <thead>\n",
       "    <tr style=\"text-align: right;\">\n",
       "      <th></th>\n",
       "      <th>Sample1</th>\n",
       "      <th>Sample2</th>\n",
       "      <th>Sample3</th>\n",
       "      <th>Sample4</th>\n",
       "      <th>Sample5</th>\n",
       "    </tr>\n",
       "  </thead>\n",
       "  <tbody>\n",
       "    <tr>\n",
       "      <th>Genome1</th>\n",
       "      <td>0.000000</td>\n",
       "      <td>0.001794</td>\n",
       "      <td>0.010967</td>\n",
       "      <td>0.169142</td>\n",
       "      <td>0.548405</td>\n",
       "    </tr>\n",
       "    <tr>\n",
       "      <th>Genome2</th>\n",
       "      <td>0.281049</td>\n",
       "      <td>0.695662</td>\n",
       "      <td>0.448227</td>\n",
       "      <td>0.728979</td>\n",
       "      <td>0.249088</td>\n",
       "    </tr>\n",
       "    <tr>\n",
       "      <th>Genome3</th>\n",
       "      <td>0.000000</td>\n",
       "      <td>0.041044</td>\n",
       "      <td>0.429840</td>\n",
       "      <td>0.000000</td>\n",
       "      <td>0.102507</td>\n",
       "    </tr>\n",
       "    <tr>\n",
       "      <th>Genome4</th>\n",
       "      <td>0.618951</td>\n",
       "      <td>0.161500</td>\n",
       "      <td>0.010967</td>\n",
       "      <td>0.001879</td>\n",
       "      <td>0.000000</td>\n",
       "    </tr>\n",
       "  </tbody>\n",
       "</table>\n",
       "</div>"
      ],
      "text/plain": [
       "          Sample1   Sample2   Sample3   Sample4   Sample5\n",
       "Genome1  0.000000  0.001794  0.010967  0.169142  0.548405\n",
       "Genome2  0.281049  0.695662  0.448227  0.728979  0.249088\n",
       "Genome3  0.000000  0.041044  0.429840  0.000000  0.102507\n",
       "Genome4  0.618951  0.161500  0.010967  0.001879  0.000000"
      ]
     },
     "execution_count": 73,
     "metadata": {},
     "output_type": "execute_result"
    }
   ],
   "source": [
    "table = biom.load_table('time_species_resolution.biom')\n",
    "table.to_dataframe()\n"
   ]
  },
  {
   "cell_type": "code",
   "execution_count": 74,
   "metadata": {},
   "outputs": [
    {
     "data": {
      "text/html": [
       "<div>\n",
       "<style scoped>\n",
       "    .dataframe tbody tr th:only-of-type {\n",
       "        vertical-align: middle;\n",
       "    }\n",
       "\n",
       "    .dataframe tbody tr th {\n",
       "        vertical-align: top;\n",
       "    }\n",
       "\n",
       "    .dataframe thead th {\n",
       "        text-align: right;\n",
       "    }\n",
       "</style>\n",
       "<table border=\"1\" class=\"dataframe\">\n",
       "  <thead>\n",
       "    <tr style=\"text-align: right;\">\n",
       "      <th></th>\n",
       "      <th>taxonomy_0</th>\n",
       "    </tr>\n",
       "  </thead>\n",
       "  <tbody>\n",
       "    <tr>\n",
       "      <th>Genome1</th>\n",
       "      <td>k__Bacteria;p__Proteobacteria;c__Gammaproteoba...</td>\n",
       "    </tr>\n",
       "    <tr>\n",
       "      <th>Genome2</th>\n",
       "      <td>k__Bacteria;p__Firmicutes;c__Bacilli;o__Bacill...</td>\n",
       "    </tr>\n",
       "    <tr>\n",
       "      <th>Genome3</th>\n",
       "      <td>k__Bacteria;p__Firmicutes;c__Bacilli;o__Lactob...</td>\n",
       "    </tr>\n",
       "    <tr>\n",
       "      <th>Genome4</th>\n",
       "      <td>k__Bacteria;p__Proteobacteria;c__Gammaproteoba...</td>\n",
       "    </tr>\n",
       "  </tbody>\n",
       "</table>\n",
       "</div>"
      ],
      "text/plain": [
       "                                                taxonomy_0\n",
       "Genome1  k__Bacteria;p__Proteobacteria;c__Gammaproteoba...\n",
       "Genome2  k__Bacteria;p__Firmicutes;c__Bacilli;o__Bacill...\n",
       "Genome3  k__Bacteria;p__Firmicutes;c__Bacilli;o__Lactob...\n",
       "Genome4  k__Bacteria;p__Proteobacteria;c__Gammaproteoba..."
      ]
     },
     "execution_count": 74,
     "metadata": {},
     "output_type": "execute_result"
    }
   ],
   "source": [
    "table.metadata_to_dataframe(axis='observation').copy()\n"
   ]
  },
  {
   "cell_type": "code",
   "execution_count": null,
   "metadata": {},
   "outputs": [],
   "source": []
  },
  {
   "cell_type": "code",
   "execution_count": 88,
   "metadata": {},
   "outputs": [
    {
     "data": {
      "text/plain": [
       "60"
      ]
     },
     "execution_count": 88,
     "metadata": {},
     "output_type": "execute_result"
    }
   ],
   "source": [
    "len('GGCGAATGGATCACCCGCCAGATCAACAGCATGCCGGCAAGGAACACCGAGAGCACGAAG')\n",
    "\n",
    "\n"
   ]
  },
  {
   "cell_type": "code",
   "execution_count": null,
   "metadata": {},
   "outputs": [],
   "source": []
  }
 ],
 "metadata": {
  "kernelspec": {
   "display_name": "Python 3",
   "language": "python",
   "name": "python3"
  },
  "language_info": {
   "codemirror_mode": {
    "name": "ipython",
    "version": 3
   },
   "file_extension": ".py",
   "mimetype": "text/x-python",
   "name": "python",
   "nbconvert_exporter": "python",
   "pygments_lexer": "ipython3",
   "version": "3.6.5"
  }
 },
 "nbformat": 4,
 "nbformat_minor": 2
}
